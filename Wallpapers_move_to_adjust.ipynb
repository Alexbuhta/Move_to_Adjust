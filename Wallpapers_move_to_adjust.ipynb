{
 "cells": [
  {
   "cell_type": "code",
   "execution_count": null,
   "id": "d5db4418",
   "metadata": {},
   "outputs": [],
   "source": [
    "#обработка данных и формирование таблица для переезда пользователей между платформами"
   ]
  },
  {
   "cell_type": "code",
   "execution_count": 1,
   "id": "642a4972",
   "metadata": {},
   "outputs": [],
   "source": [
    "import pandas as pd\n",
    "import numpy as np\n",
    "from sqlalchemy import create_engine\n",
    "from snowflake.sqlalchemy import URL\n",
    "\n",
    "import warnings\n",
    "warnings.filterwarnings('ignore')"
   ]
  },
  {
   "cell_type": "code",
   "execution_count": 2,
   "id": "057d7dc7",
   "metadata": {},
   "outputs": [],
   "source": [
    "url = URL(\n",
    "    user=\"ABUHTAREVICH\",\n",
    "    password=\"/\",\n",
    "    account=\"/\",\n",
    "    warehouse=\"/\",\n",
    "    database=\"SEVEREX\",\n",
    "    schema=\"/\",\n",
    "    #role='xxxxx',\n",
    "    #authenticator='https://xxxxx.okta.com',\n",
    ")\n",
    "engine = create_engine(url)\n",
    "connection = engine.connect()"
   ]
  },
  {
   "cell_type": "code",
   "execution_count": 45,
   "id": "8d536fdf",
   "metadata": {},
   "outputs": [],
   "source": [
    "# show all tables\n",
    "\n",
    "pd.set_option('display.max_rows', 200)"
   ]
  },
  {
   "cell_type": "code",
   "execution_count": 46,
   "id": "ccb266f0",
   "metadata": {},
   "outputs": [],
   "source": [
    "query_idfa = '''\n",
    "select \n",
    "    idfa as device_id,\n",
    "    min(date_part(epoch_second, INSTALL_TIME)) as created_at,\n",
    "    'Imported Devices' as network,\n",
    "    CAMPAIGN as campaign,\n",
    "    AF_ADSET as adgroup,\n",
    "    AF_AD as creative\n",
    "from t_events\n",
    "where APP_ID = 'id1594851756'\n",
    "and idfa is not null\n",
    "group by 1, 3, 4, 5, 6\n",
    "'''"
   ]
  },
  {
   "cell_type": "code",
   "execution_count": 47,
   "id": "95538fab",
   "metadata": {},
   "outputs": [],
   "source": [
    "query_idfv = '''\n",
    "select \n",
    "    idfv as device_id,\n",
    "    min(date_part(epoch_second, INSTALL_TIME)) as created_at,\n",
    "    'Imported Devices' as network,\n",
    "    CAMPAIGN as campaign,\n",
    "    AF_ADSET as adgroup,\n",
    "    AF_AD as creative\n",
    "from t_events\n",
    "where APP_ID = 'id1594851756'\n",
    "and idfv is not null\n",
    "group by 1, 3, 4, 5, 6\n",
    "'''"
   ]
  },
  {
   "cell_type": "code",
   "execution_count": 48,
   "id": "32416b45",
   "metadata": {},
   "outputs": [],
   "source": [
    "idfa = pd.read_sql(query_idfa, connection)"
   ]
  },
  {
   "cell_type": "code",
   "execution_count": 49,
   "id": "7ce29111",
   "metadata": {},
   "outputs": [],
   "source": [
    "idfv = pd.read_sql(query_idfv, connection)"
   ]
  },
  {
   "cell_type": "code",
   "execution_count": 50,
   "id": "c4687b6f",
   "metadata": {},
   "outputs": [
    {
     "data": {
      "text/html": [
       "<div>\n",
       "<style scoped>\n",
       "    .dataframe tbody tr th:only-of-type {\n",
       "        vertical-align: middle;\n",
       "    }\n",
       "\n",
       "    .dataframe tbody tr th {\n",
       "        vertical-align: top;\n",
       "    }\n",
       "\n",
       "    .dataframe thead th {\n",
       "        text-align: right;\n",
       "    }\n",
       "</style>\n",
       "<table border=\"1\" class=\"dataframe\">\n",
       "  <thead>\n",
       "    <tr style=\"text-align: right;\">\n",
       "      <th></th>\n",
       "      <th>device_id</th>\n",
       "      <th>created_at</th>\n",
       "      <th>network</th>\n",
       "      <th>campaign</th>\n",
       "      <th>adgroup</th>\n",
       "      <th>creative</th>\n",
       "    </tr>\n",
       "  </thead>\n",
       "  <tbody>\n",
       "    <tr>\n",
       "      <th>0</th>\n",
       "      <td>EAF5E265-F20C-4F69-A3BE-BFE92EF04E9E</td>\n",
       "      <td>1.639578e+09</td>\n",
       "      <td>Imported Devices</td>\n",
       "      <td>None</td>\n",
       "      <td>None</td>\n",
       "      <td>None</td>\n",
       "    </tr>\n",
       "    <tr>\n",
       "      <th>1</th>\n",
       "      <td>2AFA9688-F2E7-4558-A60C-3F3322E987DB</td>\n",
       "      <td>1.642021e+09</td>\n",
       "      <td>Imported Devices</td>\n",
       "      <td>None</td>\n",
       "      <td>None</td>\n",
       "      <td>None</td>\n",
       "    </tr>\n",
       "    <tr>\n",
       "      <th>2</th>\n",
       "      <td>AD811A8A-B2FE-4762-B828-28C73B7DB1B4</td>\n",
       "      <td>1.643344e+09</td>\n",
       "      <td>Imported Devices</td>\n",
       "      <td>None</td>\n",
       "      <td>None</td>\n",
       "      <td>None</td>\n",
       "    </tr>\n",
       "    <tr>\n",
       "      <th>3</th>\n",
       "      <td>45B97FDF-3985-42D7-A0B9-AFC7B2156CAD</td>\n",
       "      <td>NaN</td>\n",
       "      <td>Imported Devices</td>\n",
       "      <td>iOS - TT - Charger - US - CPI // 06.01.22</td>\n",
       "      <td>iOS - TT - Charger - US - CPI // 06.01.22</td>\n",
       "      <td>VD_CA_07_apple_compare_9x16_EN_KK.mp4_001</td>\n",
       "    </tr>\n",
       "    <tr>\n",
       "      <th>4</th>\n",
       "      <td>5A0352DF-8548-477E-A404-F7C45D72418D</td>\n",
       "      <td>1.645031e+09</td>\n",
       "      <td>Imported Devices</td>\n",
       "      <td>None</td>\n",
       "      <td>None</td>\n",
       "      <td>None</td>\n",
       "    </tr>\n",
       "  </tbody>\n",
       "</table>\n",
       "</div>"
      ],
      "text/plain": [
       "                              device_id    created_at           network  \\\n",
       "0  EAF5E265-F20C-4F69-A3BE-BFE92EF04E9E  1.639578e+09  Imported Devices   \n",
       "1  2AFA9688-F2E7-4558-A60C-3F3322E987DB  1.642021e+09  Imported Devices   \n",
       "2  AD811A8A-B2FE-4762-B828-28C73B7DB1B4  1.643344e+09  Imported Devices   \n",
       "3  45B97FDF-3985-42D7-A0B9-AFC7B2156CAD           NaN  Imported Devices   \n",
       "4  5A0352DF-8548-477E-A404-F7C45D72418D  1.645031e+09  Imported Devices   \n",
       "\n",
       "                                    campaign  \\\n",
       "0                                       None   \n",
       "1                                       None   \n",
       "2                                       None   \n",
       "3  iOS - TT - Charger - US - CPI // 06.01.22   \n",
       "4                                       None   \n",
       "\n",
       "                                     adgroup  \\\n",
       "0                                       None   \n",
       "1                                       None   \n",
       "2                                       None   \n",
       "3  iOS - TT - Charger - US - CPI // 06.01.22   \n",
       "4                                       None   \n",
       "\n",
       "                                    creative  \n",
       "0                                       None  \n",
       "1                                       None  \n",
       "2                                       None  \n",
       "3  VD_CA_07_apple_compare_9x16_EN_KK.mp4_001  \n",
       "4                                       None  "
      ]
     },
     "execution_count": 50,
     "metadata": {},
     "output_type": "execute_result"
    }
   ],
   "source": [
    "idfa.head()"
   ]
  },
  {
   "cell_type": "code",
   "execution_count": 51,
   "id": "4baa7fbe",
   "metadata": {},
   "outputs": [
    {
     "data": {
      "text/plain": [
       "(941002, 6)"
      ]
     },
     "execution_count": 51,
     "metadata": {},
     "output_type": "execute_result"
    }
   ],
   "source": [
    "idfa.shape"
   ]
  },
  {
   "cell_type": "code",
   "execution_count": 52,
   "id": "aa57efb3",
   "metadata": {},
   "outputs": [
    {
     "data": {
      "text/plain": [
       "device_id      object\n",
       "created_at    float64\n",
       "network        object\n",
       "campaign       object\n",
       "adgroup        object\n",
       "creative       object\n",
       "dtype: object"
      ]
     },
     "execution_count": 52,
     "metadata": {},
     "output_type": "execute_result"
    }
   ],
   "source": [
    "idfa.dtypes"
   ]
  },
  {
   "cell_type": "code",
   "execution_count": 53,
   "id": "4abb0765",
   "metadata": {},
   "outputs": [],
   "source": [
    "idfa.created_at = idfa.created_at.fillna(0).astype('int')"
   ]
  },
  {
   "cell_type": "code",
   "execution_count": 54,
   "id": "2344babb",
   "metadata": {},
   "outputs": [
    {
     "data": {
      "text/plain": [
       "0             930972\n",
       "1643068800         5\n",
       "1648380323         5\n",
       "1643155200         5\n",
       "1642464000         4\n",
       "               ...  \n",
       "1644471288         1\n",
       "1642020699         1\n",
       "1642039791         1\n",
       "1643997979         1\n",
       "1656449347         1\n",
       "Name: created_at, Length: 6740, dtype: int64"
      ]
     },
     "execution_count": 54,
     "metadata": {},
     "output_type": "execute_result"
    }
   ],
   "source": [
    "idfa.created_at.value_counts()"
   ]
  },
  {
   "cell_type": "code",
   "execution_count": 55,
   "id": "159c80f7",
   "metadata": {},
   "outputs": [],
   "source": [
    "idfa.to_csv('b4k5i66510xs_ios_idfa.csv', index=False) "
   ]
  },
  {
   "cell_type": "code",
   "execution_count": 56,
   "id": "4ce759af",
   "metadata": {},
   "outputs": [
    {
     "data": {
      "text/html": [
       "<div>\n",
       "<style scoped>\n",
       "    .dataframe tbody tr th:only-of-type {\n",
       "        vertical-align: middle;\n",
       "    }\n",
       "\n",
       "    .dataframe tbody tr th {\n",
       "        vertical-align: top;\n",
       "    }\n",
       "\n",
       "    .dataframe thead th {\n",
       "        text-align: right;\n",
       "    }\n",
       "</style>\n",
       "<table border=\"1\" class=\"dataframe\">\n",
       "  <thead>\n",
       "    <tr style=\"text-align: right;\">\n",
       "      <th></th>\n",
       "      <th>device_id</th>\n",
       "      <th>created_at</th>\n",
       "      <th>network</th>\n",
       "      <th>campaign</th>\n",
       "      <th>adgroup</th>\n",
       "      <th>creative</th>\n",
       "    </tr>\n",
       "  </thead>\n",
       "  <tbody>\n",
       "    <tr>\n",
       "      <th>0</th>\n",
       "      <td>A4EEF1B9-1131-4E7E-A8D9-D45F3D1516DB</td>\n",
       "      <td>1641770539</td>\n",
       "      <td>Imported Devices</td>\n",
       "      <td>None</td>\n",
       "      <td>None</td>\n",
       "      <td>None</td>\n",
       "    </tr>\n",
       "    <tr>\n",
       "      <th>1</th>\n",
       "      <td>16050186-9995-4F76-8EDF-70F4B0F83874</td>\n",
       "      <td>1641773417</td>\n",
       "      <td>Imported Devices</td>\n",
       "      <td>None</td>\n",
       "      <td>None</td>\n",
       "      <td>None</td>\n",
       "    </tr>\n",
       "    <tr>\n",
       "      <th>2</th>\n",
       "      <td>F39B91F0-FE0B-4C3E-9214-1F309792E67A</td>\n",
       "      <td>1641772943</td>\n",
       "      <td>Imported Devices</td>\n",
       "      <td>Unity - iOS - Charger - US - CPI // 06.01.22</td>\n",
       "      <td>VD_CA_07_apple_compare_EN_KK (EC - 1.2)</td>\n",
       "      <td>VD_CA_07_apple_compare_EN_KK (EC - 1.2)</td>\n",
       "    </tr>\n",
       "    <tr>\n",
       "      <th>3</th>\n",
       "      <td>B8C3A2B1-D86A-42AE-8D00-B3457E8E497D</td>\n",
       "      <td>1641772957</td>\n",
       "      <td>Imported Devices</td>\n",
       "      <td>Unity - iOS - Charger - US - CPI // 06.01.22</td>\n",
       "      <td>VD_CA_07_apple_compare_EN_KK (EC - 1.2)</td>\n",
       "      <td>VD_CA_07_apple_compare_EN_KK (EC - 1.2)</td>\n",
       "    </tr>\n",
       "    <tr>\n",
       "      <th>4</th>\n",
       "      <td>9CC0CFD3-3471-4446-B747-22C51DCC3F78</td>\n",
       "      <td>1641778964</td>\n",
       "      <td>Imported Devices</td>\n",
       "      <td>None</td>\n",
       "      <td>None</td>\n",
       "      <td>None</td>\n",
       "    </tr>\n",
       "  </tbody>\n",
       "</table>\n",
       "</div>"
      ],
      "text/plain": [
       "                              device_id  created_at           network  \\\n",
       "0  A4EEF1B9-1131-4E7E-A8D9-D45F3D1516DB  1641770539  Imported Devices   \n",
       "1  16050186-9995-4F76-8EDF-70F4B0F83874  1641773417  Imported Devices   \n",
       "2  F39B91F0-FE0B-4C3E-9214-1F309792E67A  1641772943  Imported Devices   \n",
       "3  B8C3A2B1-D86A-42AE-8D00-B3457E8E497D  1641772957  Imported Devices   \n",
       "4  9CC0CFD3-3471-4446-B747-22C51DCC3F78  1641778964  Imported Devices   \n",
       "\n",
       "                                       campaign  \\\n",
       "0                                          None   \n",
       "1                                          None   \n",
       "2  Unity - iOS - Charger - US - CPI // 06.01.22   \n",
       "3  Unity - iOS - Charger - US - CPI // 06.01.22   \n",
       "4                                          None   \n",
       "\n",
       "                                   adgroup  \\\n",
       "0                                     None   \n",
       "1                                     None   \n",
       "2  VD_CA_07_apple_compare_EN_KK (EC - 1.2)   \n",
       "3  VD_CA_07_apple_compare_EN_KK (EC - 1.2)   \n",
       "4                                     None   \n",
       "\n",
       "                                  creative  \n",
       "0                                     None  \n",
       "1                                     None  \n",
       "2  VD_CA_07_apple_compare_EN_KK (EC - 1.2)  \n",
       "3  VD_CA_07_apple_compare_EN_KK (EC - 1.2)  \n",
       "4                                     None  "
      ]
     },
     "execution_count": 56,
     "metadata": {},
     "output_type": "execute_result"
    }
   ],
   "source": [
    "idfv.head()"
   ]
  },
  {
   "cell_type": "code",
   "execution_count": 57,
   "id": "00ea89f5",
   "metadata": {},
   "outputs": [
    {
     "data": {
      "text/plain": [
       "device_id     object\n",
       "created_at     int64\n",
       "network       object\n",
       "campaign      object\n",
       "adgroup       object\n",
       "creative      object\n",
       "dtype: object"
      ]
     },
     "execution_count": 57,
     "metadata": {},
     "output_type": "execute_result"
    }
   ],
   "source": [
    "idfv.dtypes"
   ]
  },
  {
   "cell_type": "code",
   "execution_count": 58,
   "id": "6443d51d",
   "metadata": {},
   "outputs": [
    {
     "data": {
      "text/html": [
       "<div>\n",
       "<style scoped>\n",
       "    .dataframe tbody tr th:only-of-type {\n",
       "        vertical-align: middle;\n",
       "    }\n",
       "\n",
       "    .dataframe tbody tr th {\n",
       "        vertical-align: top;\n",
       "    }\n",
       "\n",
       "    .dataframe thead th {\n",
       "        text-align: right;\n",
       "    }\n",
       "</style>\n",
       "<table border=\"1\" class=\"dataframe\">\n",
       "  <thead>\n",
       "    <tr style=\"text-align: right;\">\n",
       "      <th></th>\n",
       "      <th>device_id</th>\n",
       "      <th>created_at</th>\n",
       "      <th>network</th>\n",
       "      <th>campaign</th>\n",
       "      <th>adgroup</th>\n",
       "      <th>creative</th>\n",
       "    </tr>\n",
       "  </thead>\n",
       "  <tbody>\n",
       "  </tbody>\n",
       "</table>\n",
       "</div>"
      ],
      "text/plain": [
       "Empty DataFrame\n",
       "Columns: [device_id, created_at, network, campaign, adgroup, creative]\n",
       "Index: []"
      ]
     },
     "execution_count": 58,
     "metadata": {},
     "output_type": "execute_result"
    }
   ],
   "source": [
    "idfv.query('created_at == 0')"
   ]
  },
  {
   "cell_type": "code",
   "execution_count": 59,
   "id": "edb0ca2c",
   "metadata": {},
   "outputs": [],
   "source": [
    "idfv.to_csv('b4k5i66510xs_ios_idfv.csv', index=False) "
   ]
  },
  {
   "cell_type": "code",
   "execution_count": null,
   "id": "420e1967",
   "metadata": {},
   "outputs": [],
   "source": []
  },
  {
   "cell_type": "code",
   "execution_count": null,
   "id": "0f4d0056",
   "metadata": {},
   "outputs": [],
   "source": []
  },
  {
   "cell_type": "code",
   "execution_count": null,
   "id": "fcc5c29c",
   "metadata": {},
   "outputs": [],
   "source": []
  },
  {
   "cell_type": "code",
   "execution_count": null,
   "id": "2fec3d32",
   "metadata": {},
   "outputs": [],
   "source": []
  },
  {
   "cell_type": "code",
   "execution_count": null,
   "id": "66035fc1",
   "metadata": {},
   "outputs": [],
   "source": []
  }
 ],
 "metadata": {
  "kernelspec": {
   "display_name": "Python 3 (ipykernel)",
   "language": "python",
   "name": "python3"
  },
  "language_info": {
   "codemirror_mode": {
    "name": "ipython",
    "version": 3
   },
   "file_extension": ".py",
   "mimetype": "text/x-python",
   "name": "python",
   "nbconvert_exporter": "python",
   "pygments_lexer": "ipython3",
   "version": "3.9.7"
  }
 },
 "nbformat": 4,
 "nbformat_minor": 5
}
